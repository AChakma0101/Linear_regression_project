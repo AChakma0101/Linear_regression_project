{
 "cells": [
  {
   "cell_type": "code",
   "execution_count": 48,
   "metadata": {},
   "outputs": [],
   "source": [
    "#Import and load the Boston housing dataset which is built in scikit-learn\n",
    "from sklearn.datasets import load_boston\n",
    "boston_dataset = load_boston()"
   ]
  },
  {
   "cell_type": "code",
   "execution_count": 49,
   "metadata": {},
   "outputs": [],
   "source": [
    "#Import pandas to create pandas DataFrame for easier manipulations\n",
    "import pandas as pd\n",
    "boston = pd.DataFrame(boston_dataset.data, columns=boston_dataset.feature_names)"
   ]
  },
  {
   "cell_type": "code",
   "execution_count": 50,
   "metadata": {},
   "outputs": [],
   "source": [
    "#Add the target into the DataFrame\n",
    "boston['MEDV'] = boston_dataset.target"
   ]
  },
  {
   "cell_type": "code",
   "execution_count": 51,
   "metadata": {},
   "outputs": [
    {
     "data": {
      "text/html": [
       "<div>\n",
       "<style scoped>\n",
       "    .dataframe tbody tr th:only-of-type {\n",
       "        vertical-align: middle;\n",
       "    }\n",
       "\n",
       "    .dataframe tbody tr th {\n",
       "        vertical-align: top;\n",
       "    }\n",
       "\n",
       "    .dataframe thead th {\n",
       "        text-align: right;\n",
       "    }\n",
       "</style>\n",
       "<table border=\"1\" class=\"dataframe\">\n",
       "  <thead>\n",
       "    <tr style=\"text-align: right;\">\n",
       "      <th></th>\n",
       "      <th>CRIM</th>\n",
       "      <th>ZN</th>\n",
       "      <th>INDUS</th>\n",
       "      <th>CHAS</th>\n",
       "      <th>NOX</th>\n",
       "      <th>RM</th>\n",
       "      <th>AGE</th>\n",
       "      <th>DIS</th>\n",
       "      <th>RAD</th>\n",
       "      <th>TAX</th>\n",
       "      <th>PTRATIO</th>\n",
       "      <th>B</th>\n",
       "      <th>LSTAT</th>\n",
       "      <th>MEDV</th>\n",
       "    </tr>\n",
       "  </thead>\n",
       "  <tbody>\n",
       "    <tr>\n",
       "      <th>0</th>\n",
       "      <td>0.00632</td>\n",
       "      <td>18.0</td>\n",
       "      <td>2.31</td>\n",
       "      <td>0.0</td>\n",
       "      <td>0.538</td>\n",
       "      <td>6.575</td>\n",
       "      <td>65.2</td>\n",
       "      <td>4.0900</td>\n",
       "      <td>1.0</td>\n",
       "      <td>296.0</td>\n",
       "      <td>15.3</td>\n",
       "      <td>396.90</td>\n",
       "      <td>4.98</td>\n",
       "      <td>24.0</td>\n",
       "    </tr>\n",
       "    <tr>\n",
       "      <th>1</th>\n",
       "      <td>0.02731</td>\n",
       "      <td>0.0</td>\n",
       "      <td>7.07</td>\n",
       "      <td>0.0</td>\n",
       "      <td>0.469</td>\n",
       "      <td>6.421</td>\n",
       "      <td>78.9</td>\n",
       "      <td>4.9671</td>\n",
       "      <td>2.0</td>\n",
       "      <td>242.0</td>\n",
       "      <td>17.8</td>\n",
       "      <td>396.90</td>\n",
       "      <td>9.14</td>\n",
       "      <td>21.6</td>\n",
       "    </tr>\n",
       "    <tr>\n",
       "      <th>2</th>\n",
       "      <td>0.02729</td>\n",
       "      <td>0.0</td>\n",
       "      <td>7.07</td>\n",
       "      <td>0.0</td>\n",
       "      <td>0.469</td>\n",
       "      <td>7.185</td>\n",
       "      <td>61.1</td>\n",
       "      <td>4.9671</td>\n",
       "      <td>2.0</td>\n",
       "      <td>242.0</td>\n",
       "      <td>17.8</td>\n",
       "      <td>392.83</td>\n",
       "      <td>4.03</td>\n",
       "      <td>34.7</td>\n",
       "    </tr>\n",
       "    <tr>\n",
       "      <th>3</th>\n",
       "      <td>0.03237</td>\n",
       "      <td>0.0</td>\n",
       "      <td>2.18</td>\n",
       "      <td>0.0</td>\n",
       "      <td>0.458</td>\n",
       "      <td>6.998</td>\n",
       "      <td>45.8</td>\n",
       "      <td>6.0622</td>\n",
       "      <td>3.0</td>\n",
       "      <td>222.0</td>\n",
       "      <td>18.7</td>\n",
       "      <td>394.63</td>\n",
       "      <td>2.94</td>\n",
       "      <td>33.4</td>\n",
       "    </tr>\n",
       "    <tr>\n",
       "      <th>4</th>\n",
       "      <td>0.06905</td>\n",
       "      <td>0.0</td>\n",
       "      <td>2.18</td>\n",
       "      <td>0.0</td>\n",
       "      <td>0.458</td>\n",
       "      <td>7.147</td>\n",
       "      <td>54.2</td>\n",
       "      <td>6.0622</td>\n",
       "      <td>3.0</td>\n",
       "      <td>222.0</td>\n",
       "      <td>18.7</td>\n",
       "      <td>396.90</td>\n",
       "      <td>5.33</td>\n",
       "      <td>36.2</td>\n",
       "    </tr>\n",
       "  </tbody>\n",
       "</table>\n",
       "</div>"
      ],
      "text/plain": [
       "      CRIM    ZN  INDUS  CHAS    NOX     RM   AGE     DIS  RAD    TAX  \\\n",
       "0  0.00632  18.0   2.31   0.0  0.538  6.575  65.2  4.0900  1.0  296.0   \n",
       "1  0.02731   0.0   7.07   0.0  0.469  6.421  78.9  4.9671  2.0  242.0   \n",
       "2  0.02729   0.0   7.07   0.0  0.469  7.185  61.1  4.9671  2.0  242.0   \n",
       "3  0.03237   0.0   2.18   0.0  0.458  6.998  45.8  6.0622  3.0  222.0   \n",
       "4  0.06905   0.0   2.18   0.0  0.458  7.147  54.2  6.0622  3.0  222.0   \n",
       "\n",
       "   PTRATIO       B  LSTAT  MEDV  \n",
       "0     15.3  396.90   4.98  24.0  \n",
       "1     17.8  396.90   9.14  21.6  \n",
       "2     17.8  392.83   4.03  34.7  \n",
       "3     18.7  394.63   2.94  33.4  \n",
       "4     18.7  396.90   5.33  36.2  "
      ]
     },
     "execution_count": 51,
     "metadata": {},
     "output_type": "execute_result"
    }
   ],
   "source": [
    "#Inspect the data set\n",
    "boston.head()"
   ]
  },
  {
   "cell_type": "code",
   "execution_count": 52,
   "metadata": {},
   "outputs": [
    {
     "data": {
      "text/plain": [
       "(506, 14)"
      ]
     },
     "execution_count": 52,
     "metadata": {},
     "output_type": "execute_result"
    }
   ],
   "source": [
    "boston.shape"
   ]
  },
  {
   "cell_type": "code",
   "execution_count": 53,
   "metadata": {},
   "outputs": [
    {
     "data": {
      "text/plain": [
       "Index(['CRIM', 'ZN', 'INDUS', 'CHAS', 'NOX', 'RM', 'AGE', 'DIS', 'RAD', 'TAX',\n",
       "       'PTRATIO', 'B', 'LSTAT', 'MEDV'],\n",
       "      dtype='object')"
      ]
     },
     "execution_count": 53,
     "metadata": {},
     "output_type": "execute_result"
    }
   ],
   "source": [
    "boston.columns"
   ]
  },
  {
   "cell_type": "code",
   "execution_count": 54,
   "metadata": {},
   "outputs": [
    {
     "data": {
      "text/html": [
       "<div>\n",
       "<style scoped>\n",
       "    .dataframe tbody tr th:only-of-type {\n",
       "        vertical-align: middle;\n",
       "    }\n",
       "\n",
       "    .dataframe tbody tr th {\n",
       "        vertical-align: top;\n",
       "    }\n",
       "\n",
       "    .dataframe thead th {\n",
       "        text-align: right;\n",
       "    }\n",
       "</style>\n",
       "<table border=\"1\" class=\"dataframe\">\n",
       "  <thead>\n",
       "    <tr style=\"text-align: right;\">\n",
       "      <th></th>\n",
       "      <th>CRIM</th>\n",
       "      <th>ZN</th>\n",
       "      <th>INDUS</th>\n",
       "      <th>CHAS</th>\n",
       "      <th>NOX</th>\n",
       "      <th>RM</th>\n",
       "      <th>AGE</th>\n",
       "      <th>DIS</th>\n",
       "      <th>RAD</th>\n",
       "      <th>TAX</th>\n",
       "      <th>PTRATIO</th>\n",
       "      <th>B</th>\n",
       "      <th>LSTAT</th>\n",
       "      <th>MEDV</th>\n",
       "    </tr>\n",
       "  </thead>\n",
       "  <tbody>\n",
       "    <tr>\n",
       "      <th>count</th>\n",
       "      <td>506.00</td>\n",
       "      <td>506.00</td>\n",
       "      <td>506.00</td>\n",
       "      <td>506.00</td>\n",
       "      <td>506.00</td>\n",
       "      <td>506.00</td>\n",
       "      <td>506.00</td>\n",
       "      <td>506.00</td>\n",
       "      <td>506.00</td>\n",
       "      <td>506.00</td>\n",
       "      <td>506.00</td>\n",
       "      <td>506.00</td>\n",
       "      <td>506.00</td>\n",
       "      <td>506.00</td>\n",
       "    </tr>\n",
       "    <tr>\n",
       "      <th>mean</th>\n",
       "      <td>3.61</td>\n",
       "      <td>11.36</td>\n",
       "      <td>11.14</td>\n",
       "      <td>0.07</td>\n",
       "      <td>0.55</td>\n",
       "      <td>6.28</td>\n",
       "      <td>68.57</td>\n",
       "      <td>3.80</td>\n",
       "      <td>9.55</td>\n",
       "      <td>408.24</td>\n",
       "      <td>18.46</td>\n",
       "      <td>356.67</td>\n",
       "      <td>12.65</td>\n",
       "      <td>22.53</td>\n",
       "    </tr>\n",
       "    <tr>\n",
       "      <th>std</th>\n",
       "      <td>8.60</td>\n",
       "      <td>23.32</td>\n",
       "      <td>6.86</td>\n",
       "      <td>0.25</td>\n",
       "      <td>0.12</td>\n",
       "      <td>0.70</td>\n",
       "      <td>28.15</td>\n",
       "      <td>2.11</td>\n",
       "      <td>8.71</td>\n",
       "      <td>168.54</td>\n",
       "      <td>2.16</td>\n",
       "      <td>91.29</td>\n",
       "      <td>7.14</td>\n",
       "      <td>9.20</td>\n",
       "    </tr>\n",
       "    <tr>\n",
       "      <th>min</th>\n",
       "      <td>0.01</td>\n",
       "      <td>0.00</td>\n",
       "      <td>0.46</td>\n",
       "      <td>0.00</td>\n",
       "      <td>0.38</td>\n",
       "      <td>3.56</td>\n",
       "      <td>2.90</td>\n",
       "      <td>1.13</td>\n",
       "      <td>1.00</td>\n",
       "      <td>187.00</td>\n",
       "      <td>12.60</td>\n",
       "      <td>0.32</td>\n",
       "      <td>1.73</td>\n",
       "      <td>5.00</td>\n",
       "    </tr>\n",
       "    <tr>\n",
       "      <th>25%</th>\n",
       "      <td>0.08</td>\n",
       "      <td>0.00</td>\n",
       "      <td>5.19</td>\n",
       "      <td>0.00</td>\n",
       "      <td>0.45</td>\n",
       "      <td>5.89</td>\n",
       "      <td>45.02</td>\n",
       "      <td>2.10</td>\n",
       "      <td>4.00</td>\n",
       "      <td>279.00</td>\n",
       "      <td>17.40</td>\n",
       "      <td>375.38</td>\n",
       "      <td>6.95</td>\n",
       "      <td>17.02</td>\n",
       "    </tr>\n",
       "    <tr>\n",
       "      <th>50%</th>\n",
       "      <td>0.26</td>\n",
       "      <td>0.00</td>\n",
       "      <td>9.69</td>\n",
       "      <td>0.00</td>\n",
       "      <td>0.54</td>\n",
       "      <td>6.21</td>\n",
       "      <td>77.50</td>\n",
       "      <td>3.21</td>\n",
       "      <td>5.00</td>\n",
       "      <td>330.00</td>\n",
       "      <td>19.05</td>\n",
       "      <td>391.44</td>\n",
       "      <td>11.36</td>\n",
       "      <td>21.20</td>\n",
       "    </tr>\n",
       "    <tr>\n",
       "      <th>75%</th>\n",
       "      <td>3.68</td>\n",
       "      <td>12.50</td>\n",
       "      <td>18.10</td>\n",
       "      <td>0.00</td>\n",
       "      <td>0.62</td>\n",
       "      <td>6.62</td>\n",
       "      <td>94.07</td>\n",
       "      <td>5.19</td>\n",
       "      <td>24.00</td>\n",
       "      <td>666.00</td>\n",
       "      <td>20.20</td>\n",
       "      <td>396.22</td>\n",
       "      <td>16.96</td>\n",
       "      <td>25.00</td>\n",
       "    </tr>\n",
       "    <tr>\n",
       "      <th>max</th>\n",
       "      <td>88.98</td>\n",
       "      <td>100.00</td>\n",
       "      <td>27.74</td>\n",
       "      <td>1.00</td>\n",
       "      <td>0.87</td>\n",
       "      <td>8.78</td>\n",
       "      <td>100.00</td>\n",
       "      <td>12.13</td>\n",
       "      <td>24.00</td>\n",
       "      <td>711.00</td>\n",
       "      <td>22.00</td>\n",
       "      <td>396.90</td>\n",
       "      <td>37.97</td>\n",
       "      <td>50.00</td>\n",
       "    </tr>\n",
       "  </tbody>\n",
       "</table>\n",
       "</div>"
      ],
      "text/plain": [
       "         CRIM      ZN   INDUS    CHAS     NOX      RM     AGE     DIS     RAD  \\\n",
       "count  506.00  506.00  506.00  506.00  506.00  506.00  506.00  506.00  506.00   \n",
       "mean     3.61   11.36   11.14    0.07    0.55    6.28   68.57    3.80    9.55   \n",
       "std      8.60   23.32    6.86    0.25    0.12    0.70   28.15    2.11    8.71   \n",
       "min      0.01    0.00    0.46    0.00    0.38    3.56    2.90    1.13    1.00   \n",
       "25%      0.08    0.00    5.19    0.00    0.45    5.89   45.02    2.10    4.00   \n",
       "50%      0.26    0.00    9.69    0.00    0.54    6.21   77.50    3.21    5.00   \n",
       "75%      3.68   12.50   18.10    0.00    0.62    6.62   94.07    5.19   24.00   \n",
       "max     88.98  100.00   27.74    1.00    0.87    8.78  100.00   12.13   24.00   \n",
       "\n",
       "          TAX  PTRATIO       B   LSTAT    MEDV  \n",
       "count  506.00   506.00  506.00  506.00  506.00  \n",
       "mean   408.24    18.46  356.67   12.65   22.53  \n",
       "std    168.54     2.16   91.29    7.14    9.20  \n",
       "min    187.00    12.60    0.32    1.73    5.00  \n",
       "25%    279.00    17.40  375.38    6.95   17.02  \n",
       "50%    330.00    19.05  391.44   11.36   21.20  \n",
       "75%    666.00    20.20  396.22   16.96   25.00  \n",
       "max    711.00    22.00  396.90   37.97   50.00  "
      ]
     },
     "execution_count": 54,
     "metadata": {},
     "output_type": "execute_result"
    }
   ],
   "source": [
    "#Check the summary statistics rounded to the second decimal place\n",
    "boston.describe().round(2)"
   ]
  },
  {
   "cell_type": "code",
   "execution_count": 55,
   "metadata": {},
   "outputs": [
    {
     "data": {
      "image/png": "[encoded data removed]",
      "text/plain": [
       "<Figure size 432x288 with 1 Axes>"
      ]
     },
     "metadata": {
      "needs_background": "light"
     },
     "output_type": "display_data"
    }
   ],
   "source": [
    "#Visualize and inspect the distribution ideally column by column\n",
    "import numpy as np\n",
    "import matplotlib.pyplot as plt\n",
    "boston.hist(column='CHAS')\n",
    "plt.savefig(\"plot1.png\")\n",
    "plt.show()"
   ]
  },
  {
   "cell_type": "code",
   "execution_count": 56,
   "metadata": {},
   "outputs": [
    {
     "data": {
      "image/png": "[encoded data removed]",
      "text/plain": [
       "<Figure size 432x288 with 1 Axes>"
      ]
     },
     "metadata": {
      "needs_background": "light"
     },
     "output_type": "display_data"
    }
   ],
   "source": [
    "boston.hist(column='RM', bins=20)\n",
    "plt.savefig(\"plot1.png\")\n",
    "plt.show()"
   ]
  },
  {
   "cell_type": "code",
   "execution_count": 57,
   "metadata": {},
   "outputs": [
    {
     "name": "stdout",
     "output_type": "stream",
     "text": [
      "         CRIM    ZN  INDUS  CHAS   NOX    RM   AGE   DIS   RAD   TAX  PTRATIO  \\\n",
      "CRIM     1.00 -0.20   0.41 -0.06  0.42 -0.22  0.35 -0.38  0.63  0.58     0.29   \n",
      "ZN      -0.20  1.00  -0.53 -0.04 -0.52  0.31 -0.57  0.66 -0.31 -0.31    -0.39   \n",
      "INDUS    0.41 -0.53   1.00  0.06  0.76 -0.39  0.64 -0.71  0.60  0.72     0.38   \n",
      "CHAS    -0.06 -0.04   0.06  1.00  0.09  0.09  0.09 -0.10 -0.01 -0.04    -0.12   \n",
      "NOX      0.42 -0.52   0.76  0.09  1.00 -0.30  0.73 -0.77  0.61  0.67     0.19   \n",
      "RM      -0.22  0.31  -0.39  0.09 -0.30  1.00 -0.24  0.21 -0.21 -0.29    -0.36   \n",
      "AGE      0.35 -0.57   0.64  0.09  0.73 -0.24  1.00 -0.75  0.46  0.51     0.26   \n",
      "DIS     -0.38  0.66  -0.71 -0.10 -0.77  0.21 -0.75  1.00 -0.49 -0.53    -0.23   \n",
      "RAD      0.63 -0.31   0.60 -0.01  0.61 -0.21  0.46 -0.49  1.00  0.91     0.46   \n",
      "TAX      0.58 -0.31   0.72 -0.04  0.67 -0.29  0.51 -0.53  0.91  1.00     0.46   \n",
      "PTRATIO  0.29 -0.39   0.38 -0.12  0.19 -0.36  0.26 -0.23  0.46  0.46     1.00   \n",
      "B       -0.39  0.18  -0.36  0.05 -0.38  0.13 -0.27  0.29 -0.44 -0.44    -0.18   \n",
      "LSTAT    0.46 -0.41   0.60 -0.05  0.59 -0.61  0.60 -0.50  0.49  0.54     0.37   \n",
      "MEDV    -0.39  0.36  -0.48  0.18 -0.43  0.70 -0.38  0.25 -0.38 -0.47    -0.51   \n",
      "\n",
      "            B  LSTAT  MEDV  \n",
      "CRIM    -0.39   0.46 -0.39  \n",
      "ZN       0.18  -0.41  0.36  \n",
      "INDUS   -0.36   0.60 -0.48  \n",
      "CHAS     0.05  -0.05  0.18  \n",
      "NOX     -0.38   0.59 -0.43  \n",
      "RM       0.13  -0.61  0.70  \n",
      "AGE     -0.27   0.60 -0.38  \n",
      "DIS      0.29  -0.50  0.25  \n",
      "RAD     -0.44   0.49 -0.38  \n",
      "TAX     -0.44   0.54 -0.47  \n",
      "PTRATIO -0.18   0.37 -0.51  \n",
      "B        1.00  -0.37  0.33  \n",
      "LSTAT   -0.37   1.00 -0.74  \n",
      "MEDV     0.33  -0.74  1.00  \n"
     ]
    }
   ],
   "source": [
    "#Construct a correlation matrix to understand the relationship among features\n",
    "corr_matrix = boston.corr().round(2)\n",
    "print(corr_matrix)"
   ]
  },
  {
   "cell_type": "code",
   "execution_count": 58,
   "metadata": {},
   "outputs": [
    {
     "data": {
      "image/png": "[encoded data removed]",
      "text/plain": [
       "<Figure size 576x432 with 1 Axes>"
      ]
     },
     "metadata": {
      "needs_background": "light"
     },
     "output_type": "display_data"
    }
   ],
   "source": [
    "#Data preparation - feature selection\n",
    "#RM and MEDV are positively correlated\n",
    "#Display the relationship between the two features using scatter plot\n",
    "boston.plot(kind = 'scatter', x = 'RM', y = 'MEDV', figsize = (8, 6))\n",
    "plt.savefig(\"plot1.png\")\n",
    "plt.show()"
   ]
  },
  {
   "cell_type": "code",
   "execution_count": 59,
   "metadata": {},
   "outputs": [
    {
     "data": {
      "image/png": "[encoded data removed]",
      "text/plain": [
       "<Figure size 576x432 with 1 Axes>"
      ]
     },
     "metadata": {
      "needs_background": "light"
     },
     "output_type": "display_data"
    }
   ],
   "source": [
    "#LSTAT and MEDV tend to be negatitively correlated\n",
    "#Display the relationship between the two features using scatter plot\n",
    "boston.plot(kind = 'scatter', x = 'LSTAT', y = 'MEDV', figsize = (8, 6))\n",
    "plt.savefig(\"plot1.png\")\n",
    "plt.show()"
   ]
  },
  {
   "cell_type": "code",
   "execution_count": 60,
   "metadata": {},
   "outputs": [
    {
     "name": "stdout",
     "output_type": "stream",
     "text": [
      "(506, 1)\n"
     ]
    }
   ],
   "source": [
    "#RM appears a better choice for predicting MEDV and start with a univariate linear regression: MEDV = b + m * RM\n",
    "#In scikit-learn, models require a two-dimensional feature matrix (X, 2darray or a pandas DataFrame) and a\n",
    "#1dimensional target array (Y)\n",
    "#Data prep for 2dimensional data structure (X)\n",
    "X = boston[['RM']]\n",
    "print(X.shape)"
   ]
  },
  {
   "cell_type": "code",
   "execution_count": 61,
   "metadata": {},
   "outputs": [
    {
     "name": "stdout",
     "output_type": "stream",
     "text": [
      "(506,)\n"
     ]
    }
   ],
   "source": [
    "#Similarly, define 1dimensional target (Y)\n",
    "Y = boston['MEDV']\n",
    "print(Y.shape)"
   ]
  },
  {
   "cell_type": "code",
   "execution_count": 62,
   "metadata": {},
   "outputs": [],
   "source": [
    "#Import LinearRegression class\n",
    "from sklearn.linear_model import LinearRegression\n",
    "\n",
    "#Instantiate model\n",
    "model = LinearRegression()"
   ]
  },
  {
   "cell_type": "code",
   "execution_count": 63,
   "metadata": {},
   "outputs": [],
   "source": [
    "#Import train_test_split function to split data into training and testing sets to assess performance of the model on newly\n",
    "#unseen data\n",
    "from sklearn.model_selection import train_test_split\n",
    "X_train, X_test, Y_train, Y_test = train_test_split(X, Y, test_size = 0.3, random_state = 1)"
   ]
  },
  {
   "cell_type": "code",
   "execution_count": 64,
   "metadata": {},
   "outputs": [
    {
     "name": "stdout",
     "output_type": "stream",
     "text": [
      "(354, 1)\n",
      "(354,)\n",
      "(152, 1)\n",
      "(152,)\n"
     ]
    }
   ],
   "source": [
    "#Check the dimension to ensure the same number of rows\n",
    "print(X_train.shape)\n",
    "print(Y_train.shape)\n",
    "print(X_test.shape)\n",
    "print(Y_test.shape)"
   ]
  },
  {
   "cell_type": "code",
   "execution_count": 65,
   "metadata": {},
   "outputs": [
    {
     "data": {
      "text/plain": [
       "LinearRegression(copy_X=True, fit_intercept=True, n_jobs=None, normalize=False)"
      ]
     },
     "execution_count": 65,
     "metadata": {},
     "output_type": "execute_result"
    }
   ],
   "source": [
    "#Fit/Train the model using training data to find the linear regression coefficients, i.e., intercept and slope\n",
    "model.fit(X_train, Y_train)"
   ]
  },
  {
   "cell_type": "code",
   "execution_count": 66,
   "metadata": {},
   "outputs": [
    {
     "data": {
      "text/plain": [
       "-30.57"
      ]
     },
     "execution_count": 66,
     "metadata": {},
     "output_type": "execute_result"
    }
   ],
   "source": [
    "#Access the estimated intercept from the model rounded to the 2nd decimal place\n",
    "model.intercept_.round(2)"
   ]
  },
  {
   "cell_type": "code",
   "execution_count": 67,
   "metadata": {},
   "outputs": [
    {
     "data": {
      "text/plain": [
       "array([8.46])"
      ]
     },
     "execution_count": 67,
     "metadata": {},
     "output_type": "execute_result"
    }
   ],
   "source": [
    "#Access the estimated coefficient of feature RM\n",
    "model.coef_.round(2)"
   ]
  },
  {
   "cell_type": "code",
   "execution_count": 68,
   "metadata": {},
   "outputs": [],
   "source": [
    "#Finally, the fitted model is as follows:\n",
    "#MEDV = -30.57 + 8.46 * RM\n",
    "#For one unit increase in RM, the median home price would go up by $8460"
   ]
  },
  {
   "cell_type": "code",
   "execution_count": 69,
   "metadata": {},
   "outputs": [
    {
     "data": {
      "text/plain": [
       "array([24.42606323])"
      ]
     },
     "execution_count": 69,
     "metadata": {},
     "output_type": "execute_result"
    }
   ],
   "source": [
    "#Import numpy\n",
    "import numpy as np\n",
    "#Predict with new data\n",
    "#Make sure it is 2d\n",
    "new_RM = np.array([6.5]).reshape(-1, 1)\n",
    "model.predict(new_RM)\n",
    "#When the average number of rooms per dwelling is 6.5, the model predicts a home value of $24,426.06"
   ]
  },
  {
   "cell_type": "code",
   "execution_count": 70,
   "metadata": {},
   "outputs": [
    {
     "data": {
      "text/plain": [
       "array([24.42606323])"
      ]
     },
     "execution_count": 70,
     "metadata": {},
     "output_type": "execute_result"
    }
   ],
   "source": [
    "#Calculate the value by plugging in the line b + m*x where b is the estimated intercept and m is the estimated slope\n",
    "model.intercept_ + model.coef_*6.5"
   ]
  },
  {
   "cell_type": "code",
   "execution_count": 71,
   "metadata": {},
   "outputs": [
    {
     "data": {
      "text/plain": [
       "(152,)"
      ]
     },
     "execution_count": 71,
     "metadata": {},
     "output_type": "execute_result"
    }
   ],
   "source": [
    "#Feed the testing set and predict for all homes\n",
    "y_test_predicted = model.predict(X_test)\n",
    "y_test_predicted.shape"
   ]
  },
  {
   "cell_type": "code",
   "execution_count": 72,
   "metadata": {},
   "outputs": [
    {
     "data": {
      "text/plain": [
       "(152,)"
      ]
     },
     "execution_count": 72,
     "metadata": {},
     "output_type": "execute_result"
    }
   ],
   "source": [
    "Y_test.shape"
   ]
  },
  {
   "cell_type": "code",
   "execution_count": 73,
   "metadata": {},
   "outputs": [
    {
     "data": {
      "text/plain": [
       "numpy.ndarray"
      ]
     },
     "execution_count": 73,
     "metadata": {},
     "output_type": "execute_result"
    }
   ],
   "source": [
    "type(y_test_predicted)"
   ]
  },
  {
   "cell_type": "code",
   "execution_count": 74,
   "metadata": {},
   "outputs": [
    {
     "data": {
      "text/plain": [
       "<function matplotlib.pyplot.show(*args, **kw)>"
      ]
     },
     "execution_count": 74,
     "metadata": {},
     "output_type": "execute_result"
    },
    {
     "data": {
      "image/png": "[encoded data removed]",
      "text/plain": [
       "<Figure size 432x288 with 1 Axes>"
      ]
     },
     "metadata": {
      "needs_background": "light"
     },
     "output_type": "display_data"
    }
   ],
   "source": [
    "#Examine model performance by visualization comparing the fitted line and the true observations in the test set\n",
    "plt.scatter(X_test, Y_test, label='testing data'); plt.plot(X_test, y_test_predicted, label='prediction', linewidth=3)\n",
    "plt.xlabel('RM'); plt.ylabel('MEDV')\n",
    "plt.legend(loc='upper left')\n",
    "plt.savefig(\"plot.png\")\n",
    "plt.show"
   ]
  },
  {
   "cell_type": "code",
   "execution_count": 75,
   "metadata": {},
   "outputs": [
    {
     "data": {
      "image/png": "[encoded data removed]",
      "text/plain": [
       "<Figure size 432x288 with 1 Axes>"
      ]
     },
     "metadata": {
      "needs_background": "light"
     },
     "output_type": "display_data"
    }
   ],
   "source": [
    "#Evaluate the model by measuring the distance (referred to as residual or error) \n",
    "#between a point to the line along the vertical line\n",
    "#A residual is the difference between the observed value of the target and the predicted value\n",
    "#The closer the residual is to 0, the better job the model is doing\n",
    "#Calculate a residual and represent it in a scatter plot\n",
    "residuals = Y_test - y_test_predicted\n",
    "\n",
    "#Plot the residuals\n",
    "plt.scatter(X_test, residuals)\n",
    "#Plot a horizontal line at y = 0\n",
    "plt.hlines(y = 0, xmin = X_test.min(), xmax = X_test.max(), linestyle = '--')\n",
    "#Set xlim\n",
    "plt.xlim((4, 9))\n",
    "plt.xlabel('RM'); plt.ylabel('residuals')\n",
    "plt.savefig(\"plot1.png\")\n",
    "plt.show()\n",
    "\n",
    "#Ideally, the residuals should be symmetrically and randomly spaced around the horizontal axis\n",
    "#If the residual plot shows some pattern, linear or nonlinear, that's an indication that out model has room for improvement\n",
    "#Residual plots can reveal bias from the model and statistical measures indicate goodness-of-fit"
   ]
  },
  {
   "cell_type": "code",
   "execution_count": 76,
   "metadata": {},
   "outputs": [
    {
     "data": {
      "text/plain": [
       "-0.23645087766388434"
      ]
     },
     "execution_count": 76,
     "metadata": {},
     "output_type": "execute_result"
    }
   ],
   "source": [
    "#A good fit is when each residual is near 0\n",
    "#Aggregate the residuals and report one metric as a measure of model performance\n",
    "residuals.mean()"
   ]
  },
  {
   "cell_type": "code",
   "execution_count": 77,
   "metadata": {},
   "outputs": [
    {
     "data": {
      "text/plain": [
       "36.51721473083862"
      ]
     },
     "execution_count": 77,
     "metadata": {},
     "output_type": "execute_result"
    }
   ],
   "source": [
    "#Mean of residuals is an inaccurate metric as residuals can be positive or negative\n",
    "#Hence, take a square of each residual and then take the mean of squares - mean squared error (MSE)\n",
    "(residuals**2).mean()"
   ]
  },
  {
   "cell_type": "code",
   "execution_count": 78,
   "metadata": {},
   "outputs": [
    {
     "data": {
      "text/plain": [
       "36.517214730838624"
      ]
     },
     "execution_count": 78,
     "metadata": {},
     "output_type": "execute_result"
    }
   ],
   "source": [
    "#Alternatively, use mean_squared_error() to output the same result\n",
    "#The smaller the MSE, the better, yet there is no absolute good or bad threshold\n",
    "#It can be defined based on the dependent variable, i.e., MEDV in the test set such as variance\n",
    "#To make the scale of errors to be the same as the scale of targets, root mean squared error(RMSE) is often used\n",
    "from sklearn.metrics import mean_squared_error\n",
    "mean_squared_error(Y_test, y_test_predicted)"
   ]
  },
  {
   "cell_type": "code",
   "execution_count": 79,
   "metadata": {},
   "outputs": [
    {
     "data": {
      "text/plain": [
       "0.6015774471545622"
      ]
     },
     "execution_count": 79,
     "metadata": {},
     "output_type": "execute_result"
    }
   ],
   "source": [
    "#Another common metric to evaluate model performance is called R-squared\n",
    "#It is the proportion of total variation explained by the model\n",
    "model.score(X_test, Y_test)"
   ]
  },
  {
   "cell_type": "code",
   "execution_count": 80,
   "metadata": {},
   "outputs": [
    {
     "data": {
      "text/plain": [
       "13931.482039473683"
      ]
     },
     "execution_count": 80,
     "metadata": {},
     "output_type": "execute_result"
    }
   ],
   "source": [
    "#Calculate the total variation - the sum of squares of the difference between the response and the mean of response\n",
    "((Y_test - Y_test.mean())**2).sum()"
   ]
  },
  {
   "cell_type": "code",
   "execution_count": 81,
   "metadata": {},
   "outputs": [
    {
     "data": {
      "text/plain": [
       "5550.616639087471"
      ]
     },
     "execution_count": 81,
     "metadata": {},
     "output_type": "execute_result"
    }
   ],
   "source": [
    "#Calculate the variation that the model fails to capture - the sum of squares of residuals\n",
    "(residuals**2).sum()"
   ]
  },
  {
   "cell_type": "code",
   "execution_count": 82,
   "metadata": {},
   "outputs": [
    {
     "data": {
      "text/plain": [
       "0.6015774471545622"
      ]
     },
     "execution_count": 82,
     "metadata": {},
     "output_type": "execute_result"
    }
   ],
   "source": [
    "#Calculate the proportion of total variation from the data\n",
    "1 - 5550.616639087471/13931.482039473683"
   ]
  },
  {
   "cell_type": "code",
   "execution_count": 83,
   "metadata": {},
   "outputs": [
    {
     "data": {
      "text/plain": [
       "LinearRegression(copy_X=True, fit_intercept=True, n_jobs=None, normalize=False)"
      ]
     },
     "execution_count": 83,
     "metadata": {},
     "output_type": "execute_result"
    }
   ],
   "source": [
    "#Build multivariate linear regression model where MEDV depends on both RM (the average number of rooms)\n",
    "#and LSTAT (% lower status in population)\n",
    "#MEDV = b0 + b1 * RM + b2 * LSTAT\n",
    "#Data preparation\n",
    "X2 = boston[['RM', 'LSTAT']]\n",
    "Y = boston['MEDV']\n",
    "#Train test split\n",
    "#Same random_state to ensure the same splits\n",
    "X2_train, X2_test, Y_train, Y_test = train_test_split(X2, Y, test_size = 0.3, random_state = 1)\n",
    "model2 = LinearRegression()\n",
    "model2.fit(X2_train, Y_train)"
   ]
  },
  {
   "cell_type": "code",
   "execution_count": 84,
   "metadata": {},
   "outputs": [
    {
     "data": {
      "text/plain": [
       "5.316818471096056"
      ]
     },
     "execution_count": 84,
     "metadata": {},
     "output_type": "execute_result"
    }
   ],
   "source": [
    "model2.intercept_"
   ]
  },
  {
   "cell_type": "code",
   "execution_count": 85,
   "metadata": {},
   "outputs": [
    {
     "data": {
      "text/plain": [
       "array([ 4.12674118, -0.67762654])"
      ]
     },
     "execution_count": 85,
     "metadata": {},
     "output_type": "execute_result"
    }
   ],
   "source": [
    "model2.coef_"
   ]
  },
  {
   "cell_type": "code",
   "execution_count": 86,
   "metadata": {},
   "outputs": [
    {
     "name": "stdout",
     "output_type": "stream",
     "text": [
      "[28.478341   28.08411889 17.46168887 24.08502818 20.53939027 24.07720618\n",
      " 29.49226779 21.53814087 17.73198767 25.82822684 27.92749205 30.56017902\n",
      " 19.744675   22.25937394 22.23039758 20.23997311 17.00747983 38.18522442\n",
      " 25.71103246  5.63483384 21.06717172 17.25963598 26.12875354 27.64278875\n",
      " 28.10950458 13.1207732  16.69050892 22.99963249 31.4303435  13.43144011\n",
      " 28.74647902 15.93821689 36.51949271 19.97289731 24.51189106 20.56294206\n",
      " 19.42950819 31.19888826  6.57747007 20.39686851 26.47769159 26.7825762\n",
      " 27.47762993 14.41499805 18.62310619 18.06847281 36.21261023 18.53174991\n",
      " 23.84655008 24.54542564 26.22034649 23.95166915 28.32133001 23.87204143\n",
      "  6.22235564 27.39863295  9.1580405  26.52852129 20.09521683 36.67342818\n",
      " 21.59540558 28.25221122 15.5348794  19.56003936  7.62687753 30.70623418\n",
      " 38.04772217 26.44423625 23.06709024 21.58718845 27.19740561  5.35113993\n",
      " 16.31106342 24.74072319 21.05360377 22.03423263 32.26426006 26.36981291\n",
      " 27.17424345 32.40241397 21.42721859 23.18437379 31.31504683 16.90461621\n",
      " 28.04716205 28.13318738 18.71314818 28.41354821 19.67262269 19.96717777\n",
      " 30.28315129 37.76652585 17.76239941 21.70388859 21.07172995 21.12230207\n",
      " 25.97177446 26.37185262 36.62308722 22.0728351  18.77264636 19.30547479\n",
      " 26.83767464 26.02712499  6.21595803 22.67275804 16.65406175 27.3820049\n",
      " 21.79786799 28.10285488 34.00227525 25.66824599 16.2912035  31.55299435\n",
      " 30.29950083 32.99377852 23.41528197 19.91086413 32.961348   34.51484862\n",
      " 22.77659914 20.40314061 29.97514384 21.49755702 25.96464596 21.40073877\n",
      " 24.787326   24.41962554 18.35668649 29.49276202 19.60572743 24.63346976\n",
      " 26.73994716  8.69763755 27.73925475 30.48196576  9.43965731 17.09654328\n",
      " 32.23810713 22.4099983  26.03877432 18.19141758 16.7559688  27.75252329\n",
      " 31.37389336 24.31589452 26.95634624 15.64264798 28.15026233 17.76647882\n",
      " 28.54329671 15.83434937]\n"
     ]
    }
   ],
   "source": [
    "#The second model is\n",
    "#MEDV = 5.32 + 4.13 * RM + (-0.68) * LSTAT\n",
    "#Predict using second model\n",
    "y_test_predicted2 = model2.predict(X2_test)\n",
    "print(y_test_predicted2)"
   ]
  },
  {
   "cell_type": "code",
   "execution_count": 87,
   "metadata": {},
   "outputs": [
    {
     "data": {
      "text/plain": [
       "36.52"
      ]
     },
     "execution_count": 87,
     "metadata": {},
     "output_type": "execute_result"
    }
   ],
   "source": [
    "#Compare the models using MSE (mean squared error)\n",
    "mean_squared_error(Y_test, y_test_predicted).round(2)"
   ]
  },
  {
   "cell_type": "code",
   "execution_count": 88,
   "metadata": {},
   "outputs": [
    {
     "data": {
      "text/plain": [
       "28.93"
      ]
     },
     "execution_count": 88,
     "metadata": {},
     "output_type": "execute_result"
    }
   ],
   "source": [
    "mean_squared_error(Y_test, y_test_predicted2).round(2)"
   ]
  },
  {
   "cell_type": "code",
   "execution_count": 89,
   "metadata": {},
   "outputs": [],
   "source": [
    "#The second model has a lower MSE, specifically a 21% reduction ((36.52 - 28.93)/36.52 = 21%)\n",
    "#In general, the more features the model includes, the lower the MSE would be\n",
    "#Yet some features could be random noise, thus hurt the interpretability of the model"
   ]
  },
  {
   "cell_type": "code",
   "execution_count": null,
   "metadata": {},
   "outputs": [],
   "source": []
  }
 ],
 "metadata": {
  "kernelspec": {
   "display_name": "Python 3",
   "language": "python",
   "name": "python3"
  },
  "language_info": {
   "codemirror_mode": {
    "name": "ipython",
    "version": 3
   },
   "file_extension": ".py",
   "mimetype": "text/x-python",
   "name": "python",
   "nbconvert_exporter": "python",
   "pygments_lexer": "ipython3",
   "version": "3.7.6"
  }
 },
 "nbformat": 4,
 "nbformat_minor": 4
}
